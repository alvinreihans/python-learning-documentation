{
 "cells": [
  {
   "cell_type": "code",
   "execution_count": 23,
   "id": "28636c2e",
   "metadata": {},
   "outputs": [
    {
     "data": {
      "text/plain": [
       "True"
      ]
     },
     "execution_count": 23,
     "metadata": {},
     "output_type": "execute_result"
    }
   ],
   "source": [
    "import cv2\n",
    "\n",
    "# Read image and convert to grayscale\n",
    "imgPhoto = cv2.imread('contoh.jpg', cv2.IMREAD_GRAYSCALE)\n",
    "\n",
    "# Show to screen\n",
    "# cv2.imshow('Hasil Citra RGB Menjadi Citra Gray', imgPhoto)\n",
    "# cv2.waitKey()\n",
    "\n",
    "# Save to disk\n",
    "cv2.imwrite('gs_image.png', imgPhoto)"
   ]
  },
  {
   "cell_type": "code",
   "execution_count": 33,
   "id": "307f4f5d",
   "metadata": {},
   "outputs": [
    {
     "data": {
      "text/plain": [
       "-1"
      ]
     },
     "execution_count": 33,
     "metadata": {},
     "output_type": "execute_result"
    }
   ],
   "source": [
    "import cv2\n",
    "\n",
    "# Read a grayscale image\n",
    "im_gray = cv2.imread('contoh.jpg', cv2.IMREAD_GRAYSCALE)\n",
    "\n",
    "# Convert grayscale image to binary\n",
    "(thresh, im_bw) = cv2.threshold(im_gray, 128, 255, cv2.THRESH_BINARY | cv2.THRESH_OTSU)\n",
    "thresh = 128\n",
    "im_bw = cv2.threshold(im_gray, thresh, 255, cv2.THRESH_BINARY)[1]\n",
    "\n",
    "# Show to screen \n",
    "cv2.imshow('Grayscale to Binary', im_bw)\n",
    "cv2.waitKey()\n",
    "\n",
    "# Save to disk\n",
    "# cv2.imwrite('bw_image.png', im_bw)"
   ]
  },
  {
   "cell_type": "code",
   "execution_count": 31,
   "id": "97ce5adb",
   "metadata": {},
   "outputs": [
    {
     "data": {
      "image/png": "[encoded data removed]",
      "text/plain": [
       "<Figure size 432x288 with 1 Axes>"
      ]
     },
     "metadata": {
      "needs_background": "light"
     },
     "output_type": "display_data"
    },
    {
     "data": {
      "image/png": "[encoded data removed]",
      "text/plain": [
       "<Figure size 432x288 with 1 Axes>"
      ]
     },
     "metadata": {
      "needs_background": "light"
     },
     "output_type": "display_data"
    },
    {
     "data": {
      "image/png": "[encoded data removed]",
      "text/plain": [
       "<Figure size 432x288 with 1 Axes>"
      ]
     },
     "metadata": {
      "needs_background": "light"
     },
     "output_type": "display_data"
    }
   ],
   "source": [
    "import matplotlib.pyplot as plt\n",
    "import cv2\n",
    "\n",
    "imgRGB = cv2.imread('contoh.jpg')\n",
    "plt.hist(imgRGB.ravel(), 256, [0, 255])\n",
    "plt.show()\n",
    "\n",
    "imgGs = cv2.imread('gs_image.png')\n",
    "plt.hist(imgGs.ravel(), 256, [0, 255])\n",
    "plt.show()\n",
    "\n",
    "imgBn = cv2.imread('bw_image.png')\n",
    "plt.hist(imgBn.ravel(), 256, [0, 255])\n",
    "plt.show()"
   ]
  },
  {
   "cell_type": "code",
   "execution_count": 15,
   "id": "c1298105",
   "metadata": {},
   "outputs": [
    {
     "name": "stdout",
     "output_type": "stream",
     "text": [
      "168.66276691304793\n"
     ]
    }
   ],
   "source": [
    "import numpy as np\n",
    "print(np.mean(img))"
   ]
  },
  {
   "cell_type": "code",
   "execution_count": 16,
   "id": "a5bfb62d",
   "metadata": {},
   "outputs": [
    {
     "name": "stdout",
     "output_type": "stream",
     "text": [
      "77.99891798189807\n"
     ]
    }
   ],
   "source": [
    "print (np.std(img))"
   ]
  }
 ],
 "metadata": {
  "kernelspec": {
   "display_name": "Python 3 (ipykernel)",
   "language": "python",
   "name": "python3"
  },
  "language_info": {
   "codemirror_mode": {
    "name": "ipython",
    "version": 3
   },
   "file_extension": ".py",
   "mimetype": "text/x-python",
   "name": "python",
   "nbconvert_exporter": "python",
   "pygments_lexer": "ipython3",
   "version": "3.9.7"
  }
 },
 "nbformat": 4,
 "nbformat_minor": 5
}
