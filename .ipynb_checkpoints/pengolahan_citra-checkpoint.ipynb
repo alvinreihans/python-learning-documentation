{
 "cells": [
  {
   "cell_type": "code",
   "execution_count": 5,
   "id": "5fdff226",
   "metadata": {},
   "outputs": [
    {
     "ename": "KeyboardInterrupt",
     "evalue": "",
     "output_type": "error",
     "traceback": [
      "\u001b[1;31m---------------------------------------------------------------------------\u001b[0m",
      "\u001b[1;31mKeyboardInterrupt\u001b[0m                         Traceback (most recent call last)",
      "\u001b[1;32m~\\AppData\\Local\\Temp/ipykernel_2548/3776992423.py\u001b[0m in \u001b[0;36m<module>\u001b[1;34m\u001b[0m\n\u001b[0;32m     46\u001b[0m \u001b[0mcv2\u001b[0m\u001b[1;33m.\u001b[0m\u001b[0mimshow\u001b[0m\u001b[1;33m(\u001b[0m\u001b[1;34m'Original'\u001b[0m\u001b[1;33m,\u001b[0m \u001b[0moriginal\u001b[0m\u001b[1;33m)\u001b[0m\u001b[1;33m\u001b[0m\u001b[1;33m\u001b[0m\u001b[0m\n\u001b[0;32m     47\u001b[0m \u001b[0mcv2\u001b[0m\u001b[1;33m.\u001b[0m\u001b[0mimshow\u001b[0m\u001b[1;33m(\u001b[0m\u001b[1;34m'After Effect : sharpen'\u001b[0m\u001b[1;33m,\u001b[0m \u001b[0msharpened_image\u001b[0m\u001b[1;33m)\u001b[0m\u001b[1;33m\u001b[0m\u001b[1;33m\u001b[0m\u001b[0m\n\u001b[1;32m---> 48\u001b[1;33m \u001b[0mcv2\u001b[0m\u001b[1;33m.\u001b[0m\u001b[0mwaitKey\u001b[0m\u001b[1;33m(\u001b[0m\u001b[1;36m0\u001b[0m\u001b[1;33m)\u001b[0m\u001b[1;33m\u001b[0m\u001b[1;33m\u001b[0m\u001b[0m\n\u001b[0m\u001b[0;32m     49\u001b[0m \u001b[0mcv2\u001b[0m\u001b[1;33m.\u001b[0m\u001b[0mdestroyAllWindows\u001b[0m\u001b[1;33m(\u001b[0m\u001b[1;33m)\u001b[0m\u001b[1;33m\u001b[0m\u001b[1;33m\u001b[0m\u001b[0m\n",
      "\u001b[1;31mKeyboardInterrupt\u001b[0m: "
     ]
    }
   ],
   "source": [
    "import numpy as np\n",
    "import cv2\n",
    "image = cv2.imread('blur1.png')\n",
    "\n",
    "cv2.waitKey(0)\n",
    "cv2.destroyAllWindows()\n",
    "\n",
    "rgb2gray = cv2.imread('blur1.png')\n",
    "\n",
    "b, g, r = cv2.split(rgb2gray)\n",
    "rgb2gray = cv2.merge((b, g, r))\n",
    "\n",
    "x = rgb2gray[:, :, 0]\n",
    "\n",
    "cv2.imshow('Original', rgb2gray)\n",
    "cv2.imshow('After Effect : grayscale', x)\n",
    "cv2.waitKey(0)\n",
    "cv2.destroyAllWindows()\n",
    "\n",
    "original = cv2.imread('blur1.png')\n",
    "\n",
    "blurimage = cv2.blur(original, (11, 11))\n",
    "\n",
    "cv2.imshow('Original', original)\n",
    "cv2.imshow('After Effect : blur', blurimage)\n",
    "cv2.waitKey(0)\n",
    "cv2.destroyAllWindows()\n",
    "\n",
    "original = cv2.imread('blur1.png')\n",
    "\n",
    "medianblurimage = cv2.medianBlur(original, 5)\n",
    "\n",
    "cv2.imshow('Original', original)\n",
    "cv2.imshow('After Effect : median blur', medianblurimage)\n",
    "cv2.waitKey(0)\n",
    "cv2.destroyAllWindows()\n",
    "\n",
    "original = cv2.imread('blur1.png')\n",
    "\n",
    "sharpening_filter = np.array([[-1, -1, -1],\n",
    "                              [-1, 9, -1],\n",
    "                              [-1, -1, -1]])\n",
    "\n",
    "sharpened_image = cv2.filter2D(original, -1, sharpening_filter)\n",
    "\n",
    "cv2.imshow('Original', original)\n",
    "cv2.imshow('After Effect : sharpen', sharpened_image)\n",
    "cv2.waitKey(0)\n",
    "cv2.destroyAllWindows()\n"
   ]
  },
  {
   "cell_type": "code",
   "execution_count": null,
   "id": "25b353b7",
   "metadata": {},
   "outputs": [],
   "source": []
  },
  {
   "cell_type": "code",
   "execution_count": null,
   "id": "f4497117",
   "metadata": {},
   "outputs": [],
   "source": []
  }
 ],
 "metadata": {
  "kernelspec": {
   "display_name": "Python 3 (ipykernel)",
   "language": "python",
   "name": "python3"
  },
  "language_info": {
   "codemirror_mode": {
    "name": "ipython",
    "version": 3
   },
   "file_extension": ".py",
   "mimetype": "text/x-python",
   "name": "python",
   "nbconvert_exporter": "python",
   "pygments_lexer": "ipython3",
   "version": "3.9.7"
  }
 },
 "nbformat": 4,
 "nbformat_minor": 5
}
